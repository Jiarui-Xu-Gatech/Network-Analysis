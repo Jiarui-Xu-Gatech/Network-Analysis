{
  "cells": [
    {
      "cell_type": "markdown",
      "metadata": {
        "id": "I5ExaOcnjFil"
      },
      "source": [
        "# CSE 6240 Web Search and Text Mining\n",
        "## Homework 1: Network analysis\n",
        "\n",
        "This homework asks you to perform network analysis on a real world social network."
      ]
    },
    {
      "cell_type": "code",
      "execution_count": 3,
      "metadata": {
        "id": "7clA8ohorzLd"
      },
      "outputs": [],
      "source": [
        "import networkx as nx\n",
        "import math\n",
        "import numpy as np\n",
        "import matplotlib.pyplot as plt\n",
        "from copy import deepcopy\n",
        "from collections import Counter\n",
        "from scipy.stats import pearsonr, spearmanr\n",
        "%matplotlib inline"
      ]
    },
    {
      "cell_type": "markdown",
      "metadata": {
        "id": "J7RbCrcMgk3J"
      },
      "source": [
        "Please run the following cell substituting your student and user names."
      ]
    },
    {
      "cell_type": "code",
      "execution_count": 4,
      "metadata": {
        "id": "mHA5XXogr7b7",
        "colab": {
          "base_uri": "https://localhost:8080/"
        },
        "outputId": "a7bdcf1a-345e-416a-ec17-aed5f7bee452"
      },
      "outputs": [
        {
          "output_type": "stream",
          "name": "stdout",
          "text": [
            "I, Jiarui Xu (Jiarui Xu), state that I performed the tasks in this assignment following the Georgia Tech honor code(https://osi.gatech.edu/content/honor-code).\n"
          ]
        }
      ],
      "source": [
        "def author_honor_code (student_name='Jiarui Xu', user_name='Jiarui Xu'):\n",
        "  print (f'I, {student_name} ({user_name}), state that I performed the tasks in this assignment following the Georgia Tech honor code(https://osi.gatech.edu/content/honor-code).')\n",
        "\n",
        "# print the honor code before submission (substitute your name and username)\n",
        "author_honor_code ()"
      ]
    },
    {
      "cell_type": "markdown",
      "metadata": {
        "id": "hNfxqaiiwG-i"
      },
      "source": [
        "### Section 1: Setup and basics [2 point]\n",
        "\n",
        "In this section, we load the network that we will use throughout this assignment. We will use a large social network from [GitHub](github.com). \n",
        "The following cell will download the network in your current directory. If it does not work, please download the zip file from [here](http://snap.stanford.edu/data/git_web_ml.zip) and unzip."
      ]
    },
    {
      "cell_type": "code",
      "execution_count": 5,
      "metadata": {
        "id": "Pl9xWc3Lxs2c",
        "colab": {
          "base_uri": "https://localhost:8080/"
        },
        "outputId": "5b496705-5caf-4e62-c769-134518a8d667"
      },
      "outputs": [
        {
          "output_type": "stream",
          "name": "stdout",
          "text": [
            "--2022-01-17 19:10:14--  http://snap.stanford.edu/data/git_web_ml.zip\n",
            "Resolving snap.stanford.edu (snap.stanford.edu)... 171.64.75.80\n",
            "Connecting to snap.stanford.edu (snap.stanford.edu)|171.64.75.80|:80... connected.\n",
            "HTTP request sent, awaiting response... 200 OK\n",
            "Length: 2396031 (2.3M) [application/zip]\n",
            "Saving to: ‘git_web_ml.zip’\n",
            "\n",
            "git_web_ml.zip      100%[===================>]   2.28M   581KB/s    in 4.0s    \n",
            "\n",
            "2022-01-17 19:10:18 (581 KB/s) - ‘git_web_ml.zip’ saved [2396031/2396031]\n",
            "\n",
            "Archive:  git_web_ml.zip\n",
            "   creating: git_web_ml/\n",
            "  inflating: git_web_ml/musae_git_edges.csv  \n",
            "  inflating: git_web_ml/musae_git_features.json  \n",
            "  inflating: git_web_ml/musae_git_target.csv  \n",
            "  inflating: git_web_ml/citing.txt   \n",
            "  inflating: git_web_ml/README.txt   \n"
          ]
        }
      ],
      "source": [
        "![ -d \"git_web_ml\" ] && rm -rf git_web_ml.zip && rm -rf git_web_ml\n",
        "!wget http://snap.stanford.edu/data/git_web_ml.zip\n",
        "!unzip git_web_ml.zip"
      ]
    },
    {
      "cell_type": "markdown",
      "metadata": {
        "id": "kriRDSbej7XE"
      },
      "source": [
        "The GitHub network can be described as follows:\n",
        "\n",
        "- A node in the network represents a developer account that is active.\n",
        "- Two nodes are linked if they mutually follow each other.\n",
        "\n",
        "There is other information related to the nodes in the data you just downloaded, but for the purpose of this assignment we will ignore it."
      ]
    },
    {
      "cell_type": "markdown",
      "metadata": {
        "id": "iuIxbn4o0AEx"
      },
      "source": [
        "We'll now load the network using `networkx` from the file `git_web_ml/musae_git_edges.csv`"
      ]
    },
    {
      "cell_type": "code",
      "execution_count": 6,
      "metadata": {
        "id": "pJ5R_BLy0DN7",
        "colab": {
          "base_uri": "https://localhost:8080/"
        },
        "outputId": "08bb42a9-f0d7-49c4-eb4c-fe97749fea7d"
      },
      "outputs": [
        {
          "output_type": "stream",
          "name": "stdout",
          "text": [
            "id_1,id_2\n",
            "0,23977\n",
            "1,34526\n",
            "1,2370\n",
            "1,14683\n"
          ]
        }
      ],
      "source": [
        "! head -n 5 git_web_ml/musae_git_edges.csv"
      ]
    },
    {
      "cell_type": "markdown",
      "metadata": {
        "id": "X-RSlcYZwfSU"
      },
      "source": [
        "#### 1.1 Write code to load the network from file [1.0 points]"
      ]
    },
    {
      "cell_type": "code",
      "execution_count": 7,
      "metadata": {
        "id": "X7ceuvqh2p7H"
      },
      "outputs": [],
      "source": [
        "def load_net (filename):\n",
        "  \"\"\"\n",
        "  Arguments\n",
        "  ---------\n",
        "  filename (str): The name of the file which \n",
        "  contains the edges.\n",
        "\n",
        "  Returns\n",
        "  -------\n",
        "  networkx.Graph\n",
        "  \"\"\"\n",
        "  net = nx.Graph()\n",
        "  with open (filename) as fin:\n",
        "    for i, line in enumerate (fin):\n",
        "      if i > 0:\n",
        "        ## Add code below [1.0 points] ##\n",
        "        indexcom=line.index(',')\n",
        "        net.add_edge(line[:indexcom],line[indexcom+1:len(line)-1])\n",
        "        #################################\n",
        "  return net"
      ]
    },
    {
      "cell_type": "code",
      "execution_count": 10,
      "metadata": {
        "id": "Q44DW7QO5-x1"
      },
      "outputs": [],
      "source": [
        "net = load_net ('git_web_ml/musae_git_edges.csv')"
      ]
    },
    {
      "cell_type": "markdown",
      "metadata": {
        "id": "tEGR8yzx7O3J"
      },
      "source": [
        "####1.2 Calculate network properties [1.0 points]\n",
        "\n",
        "Let's make sure the network is loaded correctly. Calculate the following statistics from the network. You may write your own code to calculate this yourself or use the `networkx` library.\n",
        "\n",
        "- Number of nodes\n",
        "- Number of edges\n",
        "- Network density\n",
        "- Transitivity\n",
        "- Average clustering coefficient\n",
        "\n",
        "**Sanity check!** The number of nodes and edges should be 37700 and 289003 respectively."
      ]
    },
    {
      "cell_type": "code",
      "execution_count": 11,
      "metadata": {
        "id": "eOKjCHIBE1z1"
      },
      "outputs": [],
      "source": [
        "def print_network_statistics (net):\n",
        "  \"\"\"\n",
        "  Arguments\n",
        "  ---------\n",
        "  net (networkx.Graph): The network whose \n",
        "  statistics are to be printed.\n",
        "\n",
        "  Return\n",
        "  ------\n",
        "  None\n",
        "  \"\"\"\n",
        "  nodes = None\n",
        "  edges = None\n",
        "  density = None\n",
        "  transitivity = None\n",
        "  average_clustering_coefficient = None\n",
        "  ## Add code to compute the network statistics [1.0 points] ##\n",
        "  nodes=len(list(net))\n",
        "  edges=net.size()\n",
        "  density=2*edges/(nodes*(nodes-1))\n",
        "  transitivity=nx.transitivity(net)\n",
        "  average_clustering_coefficient=nx.average_clustering(net)\n",
        "  #############################################################\n",
        "  print (f'=== Network statistics ===')\n",
        "\n",
        "  print (f'Number of nodes: {nodes}')\n",
        "  print (f'Number of edges: {edges}')\n",
        "  print (f'Network density: {density:.4f}')\n",
        "  print (f'Transitivity: {transitivity:.4f}')\n",
        "  print (f'Average Clustering Coefficient: {average_clustering_coefficient:.4f}')\n",
        "  print (f'======')"
      ]
    },
    {
      "cell_type": "code",
      "execution_count": 12,
      "metadata": {
        "id": "Q4xdI2JMJ4ag",
        "colab": {
          "base_uri": "https://localhost:8080/"
        },
        "outputId": "e60ba6b7-b146-4cb2-f852-34d45ab32b1c"
      },
      "outputs": [
        {
          "output_type": "stream",
          "name": "stdout",
          "text": [
            "=== Network statistics ===\n",
            "Number of nodes: 37700\n",
            "Number of edges: 289003\n",
            "Network density: 0.0004\n",
            "Transitivity: 0.0124\n",
            "Average Clustering Coefficient: 0.1675\n",
            "======\n"
          ]
        }
      ],
      "source": [
        "print_network_statistics (net)"
      ]
    },
    {
      "cell_type": "markdown",
      "metadata": {
        "id": "usPfJliCPJdy"
      },
      "source": [
        "### Section 2 : Network structure properties [4 points]\n",
        "\n",
        "Typically there are two ways to summarize networks: (a) using the statistical properties of the network, (b) by visualizing it's distributional properties.\n",
        "\n",
        "In this section, we'll use the latter approach. We'll calculate and plot the degree distribution of the observed network. We'll then compare the network's degree distribution to that of \"ideal\" networks such as, erdos-renyi network, the small world network, and the albert-barabasi network.\n",
        "\n",
        "Once again you'll use `networkx` and call functions from that library in this section.\n",
        "\n"
      ]
    },
    {
      "cell_type": "markdown",
      "metadata": {
        "id": "VyteGLPm65Mo"
      },
      "source": [
        "#### 2.1 Write a function to get the degree of each node [0.8 points]"
      ]
    },
    {
      "cell_type": "code",
      "execution_count": 13,
      "metadata": {
        "id": "n723xTjXhTNN"
      },
      "outputs": [],
      "source": [
        "def get_degrees (net):\n",
        "  \"\"\" Given a network, get the degree for every node in the network\n",
        "  \n",
        "  Arguments\n",
        "  ---------\n",
        "  net (networkx.Graph): The network for which the degree distribution is\n",
        "      calculated.\n",
        "\n",
        "  Returns\n",
        "  -------\n",
        "  degree_sequence (numpy.array): The degree distribution.\n",
        "  \"\"\"\n",
        "  degree_sequence = None\n",
        "  ## Add code below [0.8 points] ##\n",
        "  degree_sequence = []\n",
        "  for item in list(net.nodes):\n",
        "    degree_sequence.append(net.degree(item))   \n",
        "  degree_sequence.sort()\n",
        "  ##################################\n",
        "  return degree_sequence"
      ]
    },
    {
      "cell_type": "markdown",
      "metadata": {
        "id": "92qgZF0u8Fi7"
      },
      "source": [
        "#### 2.2 Finish the function to plot the degree distribution of a network [0.8 points] \n",
        "\n",
        "Plot both the degree and the counts on a log scale."
      ]
    },
    {
      "cell_type": "code",
      "execution_count": 14,
      "metadata": {
        "id": "mqvoE7afkWYX"
      },
      "outputs": [],
      "source": [
        "def plot_degree_distribution (net, color='r'):\n",
        "  \"\"\" Plot the degree distribution on a log-log scale.\n",
        "  On X-axis, plot the degree on a log scale\n",
        "  On Y-axis, plot the number of nodes with the given degree on a log scale\n",
        "\n",
        "  Arguments\n",
        "  ---------\n",
        "  net (networkx.Graph): The network for which the degree distribution is to \n",
        "  be plotted.\n",
        "\n",
        "  Returns\n",
        "  -------\n",
        "  None\n",
        "\n",
        "  Notes\n",
        "  -----\n",
        "  - Use the matplotlib's logllog function for ploting.\n",
        "  - Use the input color, linestyle='None', marker='o', and markersize=2.0\n",
        "    as additional arguments to the loglog function that will plot the degree distribution.\n",
        "  \"\"\"\n",
        "  degree_sequence = get_degrees (net)\n",
        "  ## Add code below [0.8 points] ##\n",
        "  # Hint! you may want to use the Counter module here\n",
        "  hist={}\n",
        "  for d in degree_sequence:\n",
        "    if d in hist:\n",
        "      hist[d]+=1\n",
        "    else:\n",
        "      hist[d]=1\n",
        "  xl=np.array(list(hist.keys()))\n",
        "  yl=np.array(list(hist.values()))\n",
        "  plt.loglog(xl,yl,color,marker='o',markersize=2.0,linestyle='None')\n",
        "  ##################################\n",
        "  plt.xlabel ('Degree')\n",
        "  plt.ylabel ('Number of nodes with degree')\n",
        "  plt.title ('Degree distribution on log-log scale')"
      ]
    },
    {
      "cell_type": "code",
      "execution_count": 15,
      "metadata": {
        "id": "5h78mCUigR8m",
        "colab": {
          "base_uri": "https://localhost:8080/",
          "height": 299
        },
        "outputId": "099d1dc6-5bab-46cb-b0aa-e11814efe266"
      },
      "outputs": [
        {
          "output_type": "display_data",
          "data": {
            "image/png": "[encoded data removed]",
            "text/plain": [
              "<Figure size 432x288 with 1 Axes>"
            ]
          },
          "metadata": {
            "needs_background": "light"
          }
        }
      ],
      "source": [
        "plot_degree_distribution (net, color='b')"
      ]
    },
    {
      "cell_type": "markdown",
      "metadata": {
        "id": "Qx4kF2Jm8Wfx"
      },
      "source": [
        "#### 2.3 Compare the network properties and the degree distribution with random networks [2.4 point]  "
      ]
    },
    {
      "cell_type": "markdown",
      "metadata": {
        "id": "wjpxl9Usr9mV"
      },
      "source": [
        "Now let's compare this degree distribution with other ideal networks. We'll construct,\n",
        "\n",
        "1. **Erdos-Renyi** random network: To simulate a network in which edges are formed randomly based with some probability. We simulate the network with probability of the edge equal to the density of the GitHub network.\n",
        "2. **Watts-Strogatz** random network: To simulate a small world network by rewiring the edges. We choose the $k$ near neighbors equal to the average degree of the GitHub network and probability of rewiring as $0.5$.\n",
        "3. **Barabasi-Albert** random network: To simulate a preferential attachment network. In the preferential attachment model, nodes tend to form links with other nodes that have high degree. You can read about preferential attachment in detail [here](http://networksciencebook.com/chapter/5). We use the same number of nodes and new nodes connecting to as many as the average degree calculated for the GitHub network (rounded at the nearest integer less than the value)\n",
        "\n",
        "\n",
        "You'll use `networkx`'s functions to create these different ideal networks. \n",
        " "
      ]
    },
    {
      "cell_type": "code",
      "execution_count": 16,
      "metadata": {
        "id": "ICWzGQfisiUO",
        "colab": {
          "base_uri": "https://localhost:8080/",
          "height": 299
        },
        "outputId": "629f39db-6b92-4640-f7a1-e023710c4966"
      },
      "outputs": [
        {
          "output_type": "display_data",
          "data": {
            "image/png": "[encoded data removed]",
            "text/plain": [
              "<Figure size 432x288 with 1 Axes>"
            ]
          },
          "metadata": {
            "needs_background": "light"
          }
        }
      ],
      "source": [
        "## Add code for erdos-renyi graph here [0.2 points] ##\n",
        "# Hint! You may want the fast variant while generating these graphs\n",
        "nodes=len(list(net))\n",
        "edges=net.size()\n",
        "er_net=nx.erdos_renyi_graph(nodes, 2*edges/(nodes*(nodes-1)))\n",
        "######################################################\n",
        "plot_degree_distribution (er_net, color='r')"
      ]
    },
    {
      "cell_type": "code",
      "execution_count": 17,
      "metadata": {
        "id": "MRm4fFrJwFQc",
        "colab": {
          "base_uri": "https://localhost:8080/",
          "height": 299
        },
        "outputId": "bcefc85e-962a-4cc9-e20a-9e1d36736813"
      },
      "outputs": [
        {
          "output_type": "display_data",
          "data": {
            "image/png": "[encoded data removed]",
            "text/plain": [
              "<Figure size 432x288 with 1 Axes>"
            ]
          },
          "metadata": {
            "needs_background": "light"
          }
        }
      ],
      "source": [
        "## Add code for watts-strogatz graph here [0.2 points] ##\n",
        "nodes=len(list(net))\n",
        "edges=net.size()\n",
        "ws_net=nx.random_graphs.watts_strogatz_graph(nodes,int(2*edges/nodes),0.5)\n",
        "#########################################################\n",
        "plot_degree_distribution (ws_net, color='k')"
      ]
    },
    {
      "cell_type": "code",
      "execution_count": 18,
      "metadata": {
        "id": "X46trYpPD_8U",
        "colab": {
          "base_uri": "https://localhost:8080/",
          "height": 299
        },
        "outputId": "fbe82119-59e4-4781-df48-19ffff762d2e"
      },
      "outputs": [
        {
          "output_type": "display_data",
          "data": {
            "image/png": "[encoded data removed]",
            "text/plain": [
              "<Figure size 432x288 with 1 Axes>"
            ]
          },
          "metadata": {
            "needs_background": "light"
          }
        }
      ],
      "source": [
        "## Add code for barabasi-albert graph here [0.2 points] ##\n",
        "nodes=len(list(net))\n",
        "edges=net.size()\n",
        "ba_net=nx.barabasi_albert_graph(nodes,int(2*edges/nodes))\n",
        "##########################################################\n",
        "plot_degree_distribution (ba_net, color='g')"
      ]
    },
    {
      "cell_type": "markdown",
      "metadata": {
        "id": "sQb2eHPnwR6l"
      },
      "source": [
        "For each of these randomly generated networks, print the same network statistics that we calculated [earlier](https://colab.research.google.com/drive/18UD3mMd9q5mrBbQDxmwgIOMSDAFuVJbH#scrollTo=tEGR8yzx7O3J&line=1&uniqifier=1) for the GitHub network."
      ]
    },
    {
      "cell_type": "code",
      "execution_count": 19,
      "metadata": {
        "id": "PRgsTE_U8-Ay",
        "colab": {
          "base_uri": "https://localhost:8080/"
        },
        "outputId": "1e9e8418-b4fa-409a-a8bb-dfb3065f3ebb"
      },
      "outputs": [
        {
          "output_type": "stream",
          "name": "stdout",
          "text": [
            "=== Network statistics ===\n",
            "Number of nodes: 37700\n",
            "Number of edges: 288296\n",
            "Network density: 0.0004\n",
            "Transitivity: 0.0004\n",
            "Average Clustering Coefficient: 0.0004\n",
            "======\n",
            "=== Network statistics ===\n",
            "Number of nodes: 37700\n",
            "Number of edges: 263900\n",
            "Network density: 0.0004\n",
            "Transitivity: 0.0841\n",
            "Average Clustering Coefficient: 0.0873\n",
            "======\n",
            "=== Network statistics ===\n",
            "Number of nodes: 37700\n",
            "Number of edges: 565275\n",
            "Network density: 0.0008\n",
            "Transitivity: 0.0047\n",
            "Average Clustering Coefficient: 0.0051\n",
            "======\n"
          ]
        }
      ],
      "source": [
        "print_network_statistics (er_net) # erdos-renyi graph\n",
        "print_network_statistics (ws_net) # watts-strogatx graph\n",
        "print_network_statistics (ba_net) # barabasi-albert graph"
      ]
    },
    {
      "cell_type": "markdown",
      "metadata": {
        "id": "fzlHVkjXN6xH"
      },
      "source": [
        "Finally, we also plot the local clustering coefficient for each of these plots"
      ]
    },
    {
      "cell_type": "code",
      "execution_count": 20,
      "metadata": {
        "id": "jJ5q-SgLFVxY"
      },
      "outputs": [],
      "source": [
        "def plot_loghist(x, bins):\n",
        "  epsilon = 1e-6\n",
        "  hist, bins = np.histogram(x, bins=bins)\n",
        "  bins = bins + epsilon\n",
        "  logbins = np.logspace(np.log10(bins[0]),np.log10(bins[-1]),len(bins))\n",
        "  plt.hist(x, bins=logbins, alpha=0.8)\n",
        "  plt.xscale('log')\n",
        "\n",
        "def plot_clustering_coeff (G):\n",
        "  coeffs = None\n",
        "  ## Add code to get the local clustering coefficient (0.4 points) ##\n",
        "  coeffs=[]\n",
        "  for item in list(G.nodes):\n",
        "    coeffs.append(nx.clustering(G,item))\n",
        "  ###################################################################\n",
        "  plot_loghist (np.log10(np.array(coeffs) + 1), 10)"
      ]
    },
    {
      "cell_type": "code",
      "execution_count": 53,
      "metadata": {
        "id": "DgyamrSrLSnE",
        "colab": {
          "base_uri": "https://localhost:8080/",
          "height": 269
        },
        "outputId": "87f3f66a-0b8f-45f2-f6e4-23771e63646e"
      },
      "outputs": [
        {
          "output_type": "display_data",
          "data": {
            "image/png": "[encoded data removed]",
            "text/plain": [
              "<Figure size 432x288 with 1 Axes>"
            ]
          },
          "metadata": {
            "needs_background": "light"
          }
        }
      ],
      "source": [
        "# plot the Github network and Erdos Renyi network\n",
        "plot_clustering_coeff (net)\n",
        "plot_clustering_coeff (er_net)"
      ]
    },
    {
      "cell_type": "code",
      "execution_count": 54,
      "metadata": {
        "id": "srGd1mREE3I7",
        "colab": {
          "base_uri": "https://localhost:8080/",
          "height": 269
        },
        "outputId": "e2c93a55-833e-434a-ddd3-a8dd1683b309"
      },
      "outputs": [
        {
          "output_type": "display_data",
          "data": {
            "image/png": "[encoded data removed]",
            "text/plain": [
              "<Figure size 432x288 with 1 Axes>"
            ]
          },
          "metadata": {
            "needs_background": "light"
          }
        }
      ],
      "source": [
        "# plot the Github network and Watts Strogatz network\n",
        "plot_clustering_coeff (net)\n",
        "plot_clustering_coeff (ws_net)"
      ]
    },
    {
      "cell_type": "code",
      "execution_count": 55,
      "metadata": {
        "id": "sUxXXXe9GN-o",
        "colab": {
          "base_uri": "https://localhost:8080/",
          "height": 269
        },
        "outputId": "03f911bb-5642-4e2b-b50b-f8234709f54b"
      },
      "outputs": [
        {
          "output_type": "display_data",
          "data": {
            "image/png": "[encoded data removed]",
            "text/plain": [
              "<Figure size 432x288 with 1 Axes>"
            ]
          },
          "metadata": {
            "needs_background": "light"
          }
        }
      ],
      "source": [
        "# plot the Github network and Barabasi Albert network\n",
        "plot_clustering_coeff (net)\n",
        "plot_clustering_coeff (ba_net)"
      ]
    },
    {
      "cell_type": "markdown",
      "metadata": {
        "id": "zSF2HhDbCXrw"
      },
      "source": [
        "Answer the following questions:\n",
        "\n",
        "- Explain in a short paragraph the similarities and the differences between these randomized networks based on the network properties and the degree distribution [0.4 points]"
      ]
    },
    {
      "cell_type": "markdown",
      "metadata": {
        "id": "j_kVpJNJDDAt"
      },
      "source": [
        "Answer: \n",
        "First of all, the similarity of these three is that the network density of them are all very small, less than 0.001. In addition, few nodes' degree is higher than 150. The difference is that，with the same number of nodes，Barabasi-Albert random network have the highest number of edages, more than twice as much as the other two networks. Erdos-Renyi random network and Watts-Strogatz random network's number of edges is similar, but Erdos-Renyi random network is a little higher than Watts-Strogatz random network. For transitivity, Watts-Strogatz random network is much higher than the other two and Barabasi-Albert random network is time times higher than Erdos-Renyi random network. Therefore, we can see that Erdos-Renyi random network is the least likely to transmit between nodes. For clustering coefficient, Watts-Strogatz random network has the highest clustering coefficient and the second highest is Barabasi-Albert random network. We can infer from it that Watts-Strogatz random network is the most cohesive and transitive(highest diameter)."
      ]
    },
    {
      "cell_type": "markdown",
      "metadata": {
        "id": "o4l_Y3tcDFR0"
      },
      "source": [
        "- Explain based on the degree distribution, network properties, and clustering distribution which ideal randomized network(s) closely resemble(s) the GitHub network [1.0 points]"
      ]
    },
    {
      "cell_type": "markdown",
      "metadata": {
        "id": "0c386_NfDf1G"
      },
      "source": [
        "Answer: I think BA(Barabasi-Albert) and WS(Watts-Strogatz) are similar to github network. In terms of statistic of the number degrees, BA(Barabasi-Albert)'s distribution is most similar to Github network, but its number of edges is larger and density is higher, so it is a little different from github network. From the perspective of transitivity and clustering coefficient, WS(Watts-Strogatz) and Github network have more similar clustering properties, but its degree distribution is different from github network.   Although according to the network's property, ER(Erdos-Renyi)'s number of edges is very similar to github network, its degree distribution, transitivity and clustering coefficient are much different from github network, so the property of ER is very different from github network. .  "
      ]
    },
    {
      "cell_type": "markdown",
      "metadata": {
        "id": "Z_F77afKPiJq"
      },
      "source": [
        "### Section 3: Web Graph Connectivity [4 points]\n",
        "\n",
        "Recall the Web graph’s Bowtie Structure shown in below Figure.\n",
        "\n",
        "<img width=\"500\" src='https://drive.google.com/uc?id=1TiHtmZn5oFM7NN_LVYKfBMQZFwSAmvaV' />\n",
        "\n",
        "The web graph is directed and has three major components: $IN, SCC$, and $OUT$. The nodes in the Strongly Connected Component ($SCC$) can reach each other and can be reached from any node in $IN$. Nodes in the $SCC$ can reach any node in $OUT$.\n",
        "\n",
        "\\* For this question, we will ignore the presence of **TENDRILS**, **TUBES**, and\n",
        "**DISCONNECTED** components.\n",
        "\n",
        "\n"
      ]
    },
    {
      "cell_type": "markdown",
      "metadata": {
        "id": "TVX2y5ZwUtFj"
      },
      "source": [
        "Question:\n",
        "\n",
        "- You randomly select two nodes $A$ and $B$ from the web graph.\n",
        "What is the probability that you can follow outgoing edges starting from node $A$ to reach node $B$? Only consider the $IN$, $SCC$, and $OUT$ components of the graph. \\\\\n",
        "\n",
        " The size of $IN$, $SCC$, and $OUT$ components are represented as $|IN|$, $|SCC|$, $|OUT|$ respectively. Let the total number of nodes in the entire graph be $N (= |IN| + |SCC| + |OUT|)$. \\\\\n",
        "\n",
        " Assume the probability of a node in $IN$ reaching another node in $IN$ is $\\alpha$. Similarly, the probability of a node in $OUT$ reaching another node in $OUT$ is $\\beta$. \n",
        "\n"
      ]
    },
    {
      "cell_type": "markdown",
      "metadata": {
        "id": "U8w7agTCUrgE"
      },
      "source": [
        "Answer:\n",
        "$P = (\\alpha|IN|(|IN|-1) + |SCC|(|SCC|-1) + \\beta|OUT|(|OUT|-1) + |IN||SCC| + |IN||OUT| + |SCC||OUT|)/(N(N-1))$"
      ]
    },
    {
      "cell_type": "code",
      "execution_count": 4,
      "metadata": {
        "id": "qXbwtxggfd73",
        "colab": {
          "base_uri": "https://localhost:8080/"
        },
        "outputId": "e28e8da8-ca48-43cb-aa98-befd15eccbec"
      },
      "outputs": [
        {
          "output_type": "stream",
          "name": "stdout",
          "text": [
            "0.8811728386809843\n"
          ]
        }
      ],
      "source": [
        "#assume alpha=0.5, beta=0.5\n",
        "IN=44*1e6\n",
        "SCC=56*1e6\n",
        "OUT=44*1e6\n",
        "alpha=0.5\n",
        "beta=0.5\n",
        "N=IN+SCC+OUT\n",
        "Pro_IN=IN/N\n",
        "Pro_IN2=(IN-1)/(N-1)\n",
        "Pro_SCC=SCC/N\n",
        "Pro_SCC2=(SCC-1)/(N-1)\n",
        "Pro_OUT=OUT/N\n",
        "Pro_OUT2=(OUT-1)/(N-1)\n",
        "Pro=Pro_IN*Pro_IN2*alpha+Pro_IN*Pro_SCC*N/(N-1)+Pro_IN*Pro_OUT*N/(N-1)+Pro_SCC*Pro_IN*N/(N-1)*0+Pro_SCC*Pro_SCC2+Pro_SCC*Pro_OUT*N/(N-1)+Pro_OUT*Pro_IN*N/(N-1)*0+Pro_OUT+Pro_SCC*N/(N-1)*0+Pro_OUT*Pro_OUT2*beta\n",
        "print(Pro)"
      ]
    }
  ],
  "metadata": {
    "colab": {
      "collapsed_sections": [],
      "name": "assignment1.ipynb",
      "provenance": []
    },
    "kernelspec": {
      "display_name": "Python 3",
      "name": "python3"
    }
  },
  "nbformat": 4,
  "nbformat_minor": 0
}